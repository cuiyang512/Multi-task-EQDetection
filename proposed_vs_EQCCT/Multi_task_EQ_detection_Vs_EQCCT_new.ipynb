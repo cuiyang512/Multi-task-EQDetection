{
 "cells": [
  {
   "cell_type": "markdown",
   "id": "ee0d2976-fbe2-41f0-87cc-d837065fae66",
   "metadata": {},
   "source": [
    "## Import library"
   ]
  },
  {
   "cell_type": "code",
   "execution_count": 1,
   "id": "80b1cbb8-afdc-43bf-b23c-5ec538fd8317",
   "metadata": {},
   "outputs": [
    {
     "name": "stderr",
     "output_type": "stream",
     "text": [
      "2024-11-02 15:40:49.025888: W tensorflow/stream_executor/platform/default/dso_loader.cc:64] Could not load dynamic library 'libcudart.so.11.0'; dlerror: libcudart.so.11.0: cannot open shared object file: No such file or directory\n",
      "2024-11-02 15:40:49.025909: I tensorflow/stream_executor/cuda/cudart_stub.cc:29] Ignore above cudart dlerror if you do not have a GPU set up on your machine.\n"
     ]
    },
    {
     "name": "stdout",
     "output_type": "stream",
     "text": [
      "WARNING:tensorflow:From /home/g202321530/anaconda3/envs/eqcct/lib/python3.7/site-packages/tensorflow/python/compat/v2_compat.py:107: disable_resource_variables (from tensorflow.python.ops.variable_scope) is deprecated and will be removed in a future version.\n",
      "Instructions for updating:\n",
      "non-resource variables are not supported in the long term\n"
     ]
    }
   ],
   "source": [
    "from __future__ import print_function\n",
    "from __future__ import division\n",
    "\n",
    "import tensorflow.compat.v1 as tf1\n",
    "tf1.disable_v2_behavior()\n",
    "\n",
    "import os\n",
    "os.environ['KERAS_BACKEND']='tensorflow'\n",
    "\n",
    "from keras.models import load_model\n",
    "from keras import backend as K\n",
    "import numpy as np\n",
    "import pandas as pd\n",
    "import matplotlib.pyplot as plt\n",
    "import h5py\n",
    "from scipy.signal import butter, lfilter, lfilter_zi\n",
    "import matplotlib\n",
    "from tensorflow import keras\n",
    "\n",
    "from tensorflow.keras.optimizers import Adam\n",
    "import tensorflow as tf\n",
    "matplotlib.use('agg')\n",
    "import pandas as pd\n",
    "import math\n",
    "import csv\n",
    "import time\n",
    "import random\n",
    "from os import listdir\n",
    "import platform\n",
    "import shutil\n",
    "from tqdm import tqdm\n",
    "from datetime import datetime, timedelta\n",
    "import contextlib\n",
    "import sys\n",
    "import warnings\n",
    "from scipy import signal\n",
    "from matplotlib.lines import Line2D\n",
    "from obspy import read\n",
    "from os.path import join\n",
    "import json\n",
    "import pickle\n",
    "import faulthandler; faulthandler.enable()\n",
    "import obspy\n",
    "import logging\n",
    "from obspy.signal.trigger import trigger_onset\n",
    "from tensorflow.keras.layers import *\n",
    "from tensorflow.keras.preprocessing import text, sequence\n",
    "from sklearn.metrics import accuracy_score, roc_auc_score, log_loss\n",
    "from sklearn.model_selection import train_test_split\n",
    "from tensorflow.keras import initializers, regularizers, constraints, optimizers, layers, callbacks\n",
    "from tensorflow.keras.preprocessing.image import ImageDataGenerator\n",
    "from glob import glob\n",
    "from sklearn.utils import class_weight\n",
    "from numpy.random import seed\n",
    "from tensorflow.keras.regularizers import l2\n",
    "warnings.filterwarnings(\"ignore\")\n",
    "from tensorflow.python.util import deprecation\n",
    "deprecation._PRINT_DEPRECATION_WARNINGS = False\n",
    "\n",
    "from eqcct_dependence_p import *\n",
    "from eqcct_dependence_s import *"
   ]
  },
  {
   "cell_type": "markdown",
   "id": "3ce12bd5-148b-43a5-8e1a-8cb11dbf8475",
   "metadata": {},
   "source": [
    "## Hyperparameter setup for EQCCT"
   ]
  },
  {
   "cell_type": "code",
   "execution_count": 2,
   "id": "4746556c-7dfb-4ab5-b529-e3d4ec1242c5",
   "metadata": {},
   "outputs": [],
   "source": [
    "w1 = 6000\n",
    "w2 = 3\n",
    "drop_rate = 0.2\n",
    "stochastic_depth_rate = 0.1\n",
    "\n",
    "positional_emb = False\n",
    "conv_layers = 4\n",
    "num_classes = 1\n",
    "input_shape = (w1, w2)\n",
    "num_classes = 1\n",
    "input_shape = (6000, 3)\n",
    "image_size = 6000  \n",
    "patch_size = 40  # Size of the patches to be extract from the input images\n",
    "num_patches = (image_size // patch_size)\n",
    "projection_dim = 40\n",
    "\n",
    "num_heads = 4\n",
    "transformer_units = [\n",
    "    projection_dim,\n",
    "    projection_dim,\n",
    "]  # Size of the transformer layers\n",
    "transformer_layers = 4"
   ]
  },
  {
   "cell_type": "markdown",
   "id": "62ff06d3-340f-416c-b994-c0d7082cc176",
   "metadata": {},
   "source": [
    "## EQCCT for P-wave arrival prediction"
   ]
  },
  {
   "cell_type": "code",
   "execution_count": 3,
   "id": "3d14f64c-b64a-467e-a890-bdca09c6b95c",
   "metadata": {},
   "outputs": [
    {
     "name": "stdout",
     "output_type": "stream",
     "text": [
      "Loading the model ...\n"
     ]
    },
    {
     "name": "stderr",
     "output_type": "stream",
     "text": [
      "2024-11-02 15:40:56.266807: I tensorflow/stream_executor/cuda/cuda_gpu_executor.cc:936] successful NUMA node read from SysFS had negative value (-1), but there must be at least one NUMA node, so returning NUMA node zero\n",
      "2024-11-02 15:40:56.267046: I tensorflow/stream_executor/cuda/cuda_gpu_executor.cc:936] successful NUMA node read from SysFS had negative value (-1), but there must be at least one NUMA node, so returning NUMA node zero\n",
      "2024-11-02 15:40:56.267256: W tensorflow/stream_executor/platform/default/dso_loader.cc:64] Could not load dynamic library 'libcudart.so.11.0'; dlerror: libcudart.so.11.0: cannot open shared object file: No such file or directory\n",
      "2024-11-02 15:40:56.267428: W tensorflow/stream_executor/platform/default/dso_loader.cc:64] Could not load dynamic library 'libcublas.so.11'; dlerror: libcublas.so.11: cannot open shared object file: No such file or directory\n",
      "2024-11-02 15:40:56.267585: W tensorflow/stream_executor/platform/default/dso_loader.cc:64] Could not load dynamic library 'libcublasLt.so.11'; dlerror: libcublasLt.so.11: cannot open shared object file: No such file or directory\n",
      "2024-11-02 15:40:56.267733: W tensorflow/stream_executor/platform/default/dso_loader.cc:64] Could not load dynamic library 'libcufft.so.10'; dlerror: libcufft.so.10: cannot open shared object file: No such file or directory\n",
      "2024-11-02 15:40:56.354769: W tensorflow/stream_executor/platform/default/dso_loader.cc:64] Could not load dynamic library 'libcusparse.so.11'; dlerror: libcusparse.so.11: cannot open shared object file: No such file or directory\n",
      "2024-11-02 15:40:56.354946: W tensorflow/stream_executor/platform/default/dso_loader.cc:64] Could not load dynamic library 'libcudnn.so.8'; dlerror: libcudnn.so.8: cannot open shared object file: No such file or directory\n",
      "2024-11-02 15:40:56.354957: W tensorflow/core/common_runtime/gpu/gpu_device.cc:1850] Cannot dlopen some GPU libraries. Please make sure the missing libraries mentioned above are installed properly if you would like to use GPU. Follow the guide at https://www.tensorflow.org/install/gpu for how to download and setup the required libraries for your platform.\n",
      "Skipping registering GPU devices...\n",
      "2024-11-02 15:40:56.355548: I tensorflow/core/platform/cpu_feature_guard.cc:151] This TensorFlow binary is optimized with oneAPI Deep Neural Network Library (oneDNN) to use the following CPU instructions in performance-critical operations:  AVX2 FMA\n",
      "To enable them in other operations, rebuild TensorFlow with the appropriate compiler flags.\n"
     ]
    },
    {
     "name": "stdout",
     "output_type": "stream",
     "text": [
      "Loading is complete!\n",
      "Testing ...\n",
      "Writting results into: \" test_pwave_outputs \"\n"
     ]
    },
    {
     "name": "stderr",
     "output_type": "stream",
     "text": [
      "100%|█████████████████████████████████████████████████████████████| 15/15 [02:41<00:00, 10.77s/it]\n"
     ]
    }
   ],
   "source": [
    "test_pwave(input_hdf5= '/home/g202321530/Yang/Data/Earthquake_data/TXED/TXED_0913.h5', # here you need to change the input path of your own data\n",
    "       input_testset='./data/signalid_random_1.5w.npy',\n",
    "       #input_model='/home/g202321530/Yang/Yangtze/EQ_classification/Texas_1/txed-main/demos/EQCCT_P/test_trainer_outputs/models/test_trainer_001.h5',\n",
    "       input_model='./model/test_trainer_024.h5',\n",
    "       output_name='test_pwave',\n",
    "       detection_threshold=0.1,                \n",
    "       P_threshold=0.1,\n",
    "       number_of_plots=3,\n",
    "       estimate_uncertainty=True, \n",
    "       number_of_sampling=2,\n",
    "       input_dimention=(6000, 3),\n",
    "       normalization_mode='std',\n",
    "       mode='generator',\n",
    "       batch_size=1024,\n",
    "       gpuid=None,\n",
    "       gpu_limit=None)"
   ]
  },
  {
   "cell_type": "markdown",
   "id": "90c86f1c-9598-4b51-b7f0-3bc7a710457f",
   "metadata": {},
   "source": [
    "## EQCCT for S-wave arrival picking"
   ]
  },
  {
   "cell_type": "code",
   "execution_count": 4,
   "id": "054ab699-066c-41ac-9dc1-2122719ab5af",
   "metadata": {},
   "outputs": [
    {
     "name": "stdout",
     "output_type": "stream",
     "text": [
      "Loading the model ...\n",
      "Loading is complete!\n",
      "Testing ...\n",
      "Writting results into: \" test_swave_outputs \"\n"
     ]
    },
    {
     "name": "stderr",
     "output_type": "stream",
     "text": [
      "100%|█████████████████████████████████████████████████████████████| 15/15 [02:51<00:00, 11.44s/it]\n"
     ]
    }
   ],
   "source": [
    "test_swave(input_hdf5='/home/g202321530/Yang/Data/Earthquake_data/TXED/TXED_0913.h5', # here you need to change the input path of your own data\n",
    "       input_testset='./data/signalid_random_1.5w.npy',\n",
    "       input_model='/home/g202321530/Yang/Yangtze/EQ_classification/Texas_1/txed-main/demos/EQCCT_S/test_trainer_S_outputs/models/test_trainer_S_001.h5',\n",
    "       #input_model='./model/test_trainer_021.h5',\n",
    "       output_name='test_swave',\n",
    "       S_threshold=0.1, \n",
    "       number_of_plots=3,\n",
    "       estimate_uncertainty=True, \n",
    "       number_of_sampling=2,\n",
    "       input_dimention=(6000, 3),\n",
    "       normalization_mode='std',\n",
    "       mode='generator',\n",
    "       batch_size=1024,\n",
    "       gpuid=None,\n",
    "       gpu_limit=None)"
   ]
  },
  {
   "cell_type": "markdown",
   "id": "631d1214-c20f-4d0d-bd2f-3e32e86c6d05",
   "metadata": {},
   "source": [
    "## Define a band pass filter"
   ]
  },
  {
   "cell_type": "code",
   "execution_count": 5,
   "id": "86d6550f-3a4a-4c29-b743-fa52bad2af2b",
   "metadata": {},
   "outputs": [],
   "source": [
    "def butter_bandpass(lowcut, highcut, fs, order=5):\n",
    "    nyq = 0.5 * fs\n",
    "    low = lowcut / nyq\n",
    "    high = highcut / nyq\n",
    "    b, a = butter(order, [low, high], btype='band')\n",
    "    return b, a\n",
    "\n",
    "def butter_bandpass_filter_zi(data, lowcut, highcut, fs, order=5):\n",
    "    b, a = butter_bandpass(lowcut, highcut, fs, order=order)\n",
    "    zi = lfilter_zi(b, a)\n",
    "    y,zo = lfilter(b, a, data, zi=zi*data[0])\n",
    "    return y"
   ]
  },
  {
   "cell_type": "markdown",
   "id": "a7fdf863-10fb-4a4c-9e0a-38b745d9683c",
   "metadata": {},
   "source": [
    "## Load the 3-C signal waveforms and obtain the arrivals"
   ]
  },
  {
   "cell_type": "code",
   "execution_count": 6,
   "id": "8d835c56-7607-4213-b51a-f202d48168f6",
   "metadata": {},
   "outputs": [
    {
     "name": "stdout",
     "output_type": "stream",
     "text": [
      "-----------arrival time calculation begin-------------------\n",
      "(15000,) [ 99 498  98 ... 898 598 598]\n",
      "(15000,) [ 616  709  382 ... 2003 2551 1035]\n",
      "-----------arrival time calculation end-------------------\n",
      "-----------signal format convert begin-------------------\n",
      "-----------signal format convert finihs-------------------\n"
     ]
    }
   ],
   "source": [
    "# Load the TXED dataset\n",
    "# Please download the TXED (71.21 GB) from: https://drive.google.com/drive/folders/1WXVB8ytNB4bOaZ97oq6OmMRyAEg95trp?usp=sharing\n",
    "# f = h5py.File(\"./Your_path_of_TXED/TXED_0913.h5\", 'r')\n",
    "f = h5py.File(\"/home/g202321530/Yang/Data/Earthquake_data/TXED/TXED_0913.h5\", 'r')\n",
    "# Load randomly selected random id\n",
    "event_id = np.load('./data/signalid_random_1.5w.npy')\n",
    "\n",
    "# obtain the P- and S-wave arrivals\n",
    "P_arrival_list = []\n",
    "S_arrival_list = []\n",
    "print('-----------arrival time calculation begin-------------------')\n",
    "for key in event_id:\n",
    "    if key in f:   \n",
    "        dataset = f.get(key)\n",
    "        P_arrival_list.append(int(dataset.attrs['p_arrival_sample']))\n",
    "        S_arrival_list.append(int(dataset.attrs['s_arrival_sample']))\n",
    "P_arrival_list = np.array(P_arrival_list)\n",
    "S_arrival_list = np.array(S_arrival_list)\n",
    "\n",
    "P_phase_label = P_arrival_list\n",
    "S_phase_label = S_arrival_list\n",
    "print(P_arrival_list.shape, P_arrival_list)\n",
    "print(S_arrival_list.shape, S_arrival_list)\n",
    "print('-----------arrival time calculation end-------------------')\n",
    "\n",
    "# band-pass and normalization of the 3-C waveforms\n",
    "signal_list = []\n",
    "print('-----------signal format convert begin-------------------')\n",
    "for key in event_id:\n",
    "    if key in f:   \n",
    "        dataset = f.get(key)\n",
    "        datas = dataset['data']\n",
    "        datas = np.array(datas)\n",
    "        datas_0 = butter_bandpass_filter_zi(datas[:,0], 1, 45, 100, order=3)\n",
    "        datas_1 = butter_bandpass_filter_zi(datas[:,1], 1, 45, 100, order=3)\n",
    "        datas_2 = butter_bandpass_filter_zi(datas[:,2], 1, 45, 100, order=3)\n",
    "        datas = np.vstack([datas_0, datas_1, datas_2])\n",
    "        signal_list.append(datas) \n",
    "signal_values = np.array(signal_list)\n",
    "bp_signal= np.transpose(signal_values, [0, 2, 1])\n",
    "\n",
    "#Normalized trace-by-trace\n",
    "max_values_per_event = np.max(bp_signal, axis=1)\n",
    "# Normalize each component of each event by dividing by its maximum value\n",
    "normalized_phase_data = bp_signal / max_values_per_event[:, np.newaxis, :]\n",
    "\n",
    "print('-----------signal format convert finihs-------------------')"
   ]
  },
  {
   "cell_type": "markdown",
   "id": "7bf3d279-f904-4bc6-bfb2-05dd20e543bc",
   "metadata": {},
   "source": [
    "## load pretrained models and network inference"
   ]
  },
  {
   "cell_type": "code",
   "execution_count": 9,
   "id": "86d7f4ea-1bf3-448f-9e2c-f5acec106eb6",
   "metadata": {},
   "outputs": [
    {
     "name": "stdout",
     "output_type": "stream",
     "text": [
      "2.8.0\n"
     ]
    },
    {
     "ename": "SystemError",
     "evalue": "/pythoncroot2/python_1673992037360/work/Objects/codeobject.c:119: bad argument to internal function",
     "output_type": "error",
     "traceback": [
      "\u001b[0;31m---------------------------------------------------------------------------\u001b[0m",
      "\u001b[0;31mSystemError\u001b[0m                               Traceback (most recent call last)",
      "\u001b[0;32m/tmp/ipykernel_3330723/3018403451.py\u001b[0m in \u001b[0;36m<module>\u001b[0;34m\u001b[0m\n\u001b[1;32m      5\u001b[0m \u001b[0mtf\u001b[0m\u001b[0;34m.\u001b[0m\u001b[0mconfig\u001b[0m\u001b[0;34m.\u001b[0m\u001b[0mrun_functions_eagerly\u001b[0m\u001b[0;34m(\u001b[0m\u001b[0;32mTrue\u001b[0m\u001b[0;34m)\u001b[0m\u001b[0;34m\u001b[0m\u001b[0;34m\u001b[0m\u001b[0m\n\u001b[1;32m      6\u001b[0m \u001b[0;31m# tf.enable_eager_execution()\u001b[0m\u001b[0;34m\u001b[0m\u001b[0;34m\u001b[0m\u001b[0;34m\u001b[0m\u001b[0m\n\u001b[0;32m----> 7\u001b[0;31m \u001b[0mP_phase_model\u001b[0m \u001b[0;34m=\u001b[0m \u001b[0mload_model\u001b[0m\u001b[0;34m(\u001b[0m\u001b[0;34m'./model/P_wave_phase_picking_10w_random_1006_256_100.h5'\u001b[0m\u001b[0;34m)\u001b[0m\u001b[0;34m\u001b[0m\u001b[0;34m\u001b[0m\u001b[0m\n\u001b[0m\u001b[1;32m      8\u001b[0m \u001b[0mS_phase_model\u001b[0m \u001b[0;34m=\u001b[0m \u001b[0mload_model\u001b[0m\u001b[0;34m(\u001b[0m\u001b[0;34m'./model/S_wave_phase_picking_10w_random_1006_256_200.h5'\u001b[0m\u001b[0;34m)\u001b[0m\u001b[0;34m\u001b[0m\u001b[0;34m\u001b[0m\u001b[0m\n\u001b[1;32m      9\u001b[0m \u001b[0;31m# P_phase_model = load_model('./model/P_wave_phase_picking_10w_random_1006_256_100.h5')\u001b[0m\u001b[0;34m\u001b[0m\u001b[0;34m\u001b[0m\u001b[0;34m\u001b[0m\u001b[0m\n",
      "\u001b[0;32m~/anaconda3/envs/eqcct/lib/python3.7/site-packages/keras/utils/traceback_utils.py\u001b[0m in \u001b[0;36merror_handler\u001b[0;34m(*args, **kwargs)\u001b[0m\n\u001b[1;32m     65\u001b[0m     \u001b[0;32mexcept\u001b[0m \u001b[0mException\u001b[0m \u001b[0;32mas\u001b[0m \u001b[0me\u001b[0m\u001b[0;34m:\u001b[0m  \u001b[0;31m# pylint: disable=broad-except\u001b[0m\u001b[0;34m\u001b[0m\u001b[0;34m\u001b[0m\u001b[0m\n\u001b[1;32m     66\u001b[0m       \u001b[0mfiltered_tb\u001b[0m \u001b[0;34m=\u001b[0m \u001b[0m_process_traceback_frames\u001b[0m\u001b[0;34m(\u001b[0m\u001b[0me\u001b[0m\u001b[0;34m.\u001b[0m\u001b[0m__traceback__\u001b[0m\u001b[0;34m)\u001b[0m\u001b[0;34m\u001b[0m\u001b[0;34m\u001b[0m\u001b[0m\n\u001b[0;32m---> 67\u001b[0;31m       \u001b[0;32mraise\u001b[0m \u001b[0me\u001b[0m\u001b[0;34m.\u001b[0m\u001b[0mwith_traceback\u001b[0m\u001b[0;34m(\u001b[0m\u001b[0mfiltered_tb\u001b[0m\u001b[0;34m)\u001b[0m \u001b[0;32mfrom\u001b[0m \u001b[0;32mNone\u001b[0m\u001b[0;34m\u001b[0m\u001b[0;34m\u001b[0m\u001b[0m\n\u001b[0m\u001b[1;32m     68\u001b[0m     \u001b[0;32mfinally\u001b[0m\u001b[0;34m:\u001b[0m\u001b[0;34m\u001b[0m\u001b[0;34m\u001b[0m\u001b[0m\n\u001b[1;32m     69\u001b[0m       \u001b[0;32mdel\u001b[0m \u001b[0mfiltered_tb\u001b[0m\u001b[0;34m\u001b[0m\u001b[0;34m\u001b[0m\u001b[0m\n",
      "\u001b[0;32m~/anaconda3/envs/eqcct/lib/python3.7/site-packages/keras/utils/generic_utils.py\u001b[0m in \u001b[0;36mfunc_load\u001b[0;34m(code, defaults, closure, globs)\u001b[0m\n\u001b[1;32m    791\u001b[0m   \u001b[0;32mexcept\u001b[0m \u001b[0;34m(\u001b[0m\u001b[0mUnicodeEncodeError\u001b[0m\u001b[0;34m,\u001b[0m \u001b[0mbinascii\u001b[0m\u001b[0;34m.\u001b[0m\u001b[0mError\u001b[0m\u001b[0;34m)\u001b[0m\u001b[0;34m:\u001b[0m\u001b[0;34m\u001b[0m\u001b[0;34m\u001b[0m\u001b[0m\n\u001b[1;32m    792\u001b[0m     \u001b[0mraw_code\u001b[0m \u001b[0;34m=\u001b[0m \u001b[0mcode\u001b[0m\u001b[0;34m.\u001b[0m\u001b[0mencode\u001b[0m\u001b[0;34m(\u001b[0m\u001b[0;34m'raw_unicode_escape'\u001b[0m\u001b[0;34m)\u001b[0m\u001b[0;34m\u001b[0m\u001b[0;34m\u001b[0m\u001b[0m\n\u001b[0;32m--> 793\u001b[0;31m   \u001b[0mcode\u001b[0m \u001b[0;34m=\u001b[0m \u001b[0mmarshal\u001b[0m\u001b[0;34m.\u001b[0m\u001b[0mloads\u001b[0m\u001b[0;34m(\u001b[0m\u001b[0mraw_code\u001b[0m\u001b[0;34m)\u001b[0m\u001b[0;34m\u001b[0m\u001b[0;34m\u001b[0m\u001b[0m\n\u001b[0m\u001b[1;32m    794\u001b[0m   \u001b[0;32mif\u001b[0m \u001b[0mglobs\u001b[0m \u001b[0;32mis\u001b[0m \u001b[0;32mNone\u001b[0m\u001b[0;34m:\u001b[0m\u001b[0;34m\u001b[0m\u001b[0;34m\u001b[0m\u001b[0m\n\u001b[1;32m    795\u001b[0m     \u001b[0mglobs\u001b[0m \u001b[0;34m=\u001b[0m \u001b[0mglobals\u001b[0m\u001b[0;34m(\u001b[0m\u001b[0;34m)\u001b[0m\u001b[0;34m\u001b[0m\u001b[0;34m\u001b[0m\u001b[0m\n",
      "\u001b[0;31mSystemError\u001b[0m: /pythoncroot2/python_1673992037360/work/Objects/codeobject.c:119: bad argument to internal function"
     ]
    }
   ],
   "source": [
    "learning_rate = 0.001  # Specify your learning rate\n",
    "\n",
    "# import tensorflow as tf\n",
    "# print(tf.__version__)\n",
    "# tf.config.run_functions_eagerly(True)\n",
    "# # tf.enable_eager_execution()\n",
    "# P_phase_model = load_model('./model/P_wave_phase_picking_10w_random_1006_256_100.h5')\n",
    "# S_phase_model = load_model('./model/S_wave_phase_picking_10w_random_1006_256_200.h5')\n",
    "# # P_phase_model = load_model('./model/P_wave_phase_picking_10w_random_1006_256_100.h5')\n",
    "# # S_phase_model = load_model('./model/S_wave_phase_picking_10w_random_1006_256_200.h5')\n",
    "\n",
    "# P_phase_output = P_phase_model.predict(normalized_phase_data)\n",
    "# S_phase_output = S_phase_model.predict(normalized_phase_data)"
   ]
  },
  {
   "cell_type": "markdown",
   "id": "85222cc2-27ae-45a6-adee-ddb74d3bc53a",
   "metadata": {},
   "source": [
    "## Define evaluation metrics"
   ]
  },
  {
   "cell_type": "code",
   "execution_count": 1,
   "id": "fb4c37db-a3e3-4b40-b854-e53c4ad5e51b",
   "metadata": {},
   "outputs": [],
   "source": [
    "def evaluate_picking(pred_array, label_array):\n",
    "    pred_indx_array = []\n",
    "    label_indx_array = []\n",
    "    for i in range (pred_array.shape[0]-1):\n",
    "        pred_indx = np.argmax(pred_array[i, :])\n",
    "        # label_indx = np.argmax(label_array[i, :])\n",
    "        label_indx = label_array[i]\n",
    "        pred_indx_array.append(pred_indx)\n",
    "        label_indx_array.append(label_indx)\n",
    "\n",
    "    pred_indx_array = np.array(pred_indx_array)\n",
    "    label_indx_array = np.array(label_indx_array)\n",
    "\n",
    "    # calculate the error index\n",
    "    err_indx_array = label_indx_array- pred_indx_array\n",
    "\n",
    "    return err_indx_array\n",
    "\n",
    "def cal_mae_std(input_array, m):\n",
    "    # from sample to seconds\n",
    "    input_array = input_array/100\n",
    "    # filter those outliers\n",
    "    input_array[(input_array > m) | (input_array < -m)] = 0\n",
    "\n",
    "    # calculate the evaluation metrics\n",
    "    mae = np.mean(np.abs(input_array - np.mean(input_array)))\n",
    "    std = np.std(input_array)\n",
    "\n",
    "    # calculate the precision of picking results (within ±1 s)\n",
    "    precision = (np.sum(np.abs(input_array) <= 1) / len(input_array)) * 100\n",
    "    \n",
    "    return input_array, mae, std, precision \n",
    "\n",
    "\n",
    "def plot_histogram(input_array, input_mae, input_std, input_color, input_name):\n",
    "    plt.hist(input_array, bins=30, color=f'{input_color}', edgecolor='black', alpha=0.7)  # Adjust bins, color, edgecolor, and transparency\n",
    "    plt.xlabel('Picking error (s)', fontsize=12, fontweight='bold')  # Add x-axis label with custom font size\n",
    "    plt.ylabel('Count', fontsize=12, fontweight='bold')  # Add y-axis label with custom font size\n",
    "    plt.text(0.2, 0.8, f'MAE={input_mae:.2f} s\\n$\\sigma$={input_std:.2f} s', fontsize=10, fontweight='bold', transform=plt.gcf().transFigure)\n",
    "    plt.xticks(fontsize=10, fontweight='bold')  # Set font size for x-axis ticks\n",
    "    plt.yticks(fontsize=10, fontweight='bold')  # Set font size for y-axis ticks\n",
    "    plt.grid(axis='y', linestyle='--', alpha=0.5)  # Add grid lines with custom style and transparency\n",
    "    plt.legend([f'{input_name}'], prop={'weight': 'bold'})"
   ]
  },
  {
   "cell_type": "markdown",
   "id": "c2e0d643-0167-4ebf-998c-6f195bd64690",
   "metadata": {},
   "source": [
    "## Load the metrics predicted by EQCCT"
   ]
  },
  {
   "cell_type": "code",
   "execution_count": 3,
   "id": "d6122e11-fcde-445a-a482-824720f8a494",
   "metadata": {},
   "outputs": [
    {
     "name": "stdout",
     "output_type": "stream",
     "text": [
      "Shape of P-wave picking:11671\n",
      "Shape of S-wave picking:14783\n"
     ]
    }
   ],
   "source": [
    "# Load the CSV file (Please change the path to the output of EQCCT)\n",
    "import pandas as pd\n",
    "df_p = pd.read_csv('./test_pwave_outputs/X_test_results.csv')\n",
    "df_s = pd.read_csv('./test_swave_outputs/X_test_results.csv')\n",
    "\n",
    "# Filter out rows where 'P_error' is NaN\n",
    "filtered_df_p = df_p[df_p['P_error'].notna()]\n",
    "filtered_df_s = df_s[df_s['s_error'].notna()]\n",
    "\n",
    "# Convert the 'P_error' column to a NumPy array\n",
    "EQCCT_P_error_indx = filtered_df_p['P_error'].to_numpy()\n",
    "EQCCT_S_error_indx = filtered_df_s['s_error'].to_numpy()\n",
    "\n",
    "print(f'Shape of P-wave picking:{EQCCT_P_error_indx.shape[0]}\\nShape of S-wave picking:{EQCCT_S_error_indx.shape[0]}')"
   ]
  },
  {
   "cell_type": "markdown",
   "id": "a0be712e-f374-4406-b9f7-3f37bbe8c50d",
   "metadata": {},
   "source": [
    "## Caculate the results"
   ]
  },
  {
   "cell_type": "code",
   "execution_count": 4,
   "id": "81119807-1c15-4ffc-ab1f-72d792d1739e",
   "metadata": {},
   "outputs": [
    {
     "ename": "NameError",
     "evalue": "name 'np' is not defined",
     "output_type": "error",
     "traceback": [
      "\u001b[0;31m---------------------------------------------------------------------------\u001b[0m",
      "\u001b[0;31mNameError\u001b[0m                                 Traceback (most recent call last)",
      "\u001b[0;32m/tmp/ipykernel_3337202/1666836526.py\u001b[0m in \u001b[0;36m<module>\u001b[0;34m\u001b[0m\n\u001b[1;32m      2\u001b[0m \u001b[0;31m#Proposed_P_error_indx = evaluate_picking(P_phase_output, P_phase_label)\u001b[0m\u001b[0;34m\u001b[0m\u001b[0;34m\u001b[0m\u001b[0;34m\u001b[0m\u001b[0m\n\u001b[1;32m      3\u001b[0m \u001b[0;31m#Proposed_S_error_indx = evaluate_picking(S_phase_output, S_phase_label)\u001b[0m\u001b[0;34m\u001b[0m\u001b[0;34m\u001b[0m\u001b[0;34m\u001b[0m\u001b[0m\n\u001b[0;32m----> 4\u001b[0;31m \u001b[0mProposed_P_error_indx\u001b[0m \u001b[0;34m=\u001b[0m \u001b[0mnp\u001b[0m\u001b[0;34m.\u001b[0m\u001b[0mload\u001b[0m\u001b[0;34m(\u001b[0m\u001b[0;34m'./result/P_error_proposed_1.5w.npy'\u001b[0m\u001b[0;34m)\u001b[0m\u001b[0;34m\u001b[0m\u001b[0;34m\u001b[0m\u001b[0m\n\u001b[0m\u001b[1;32m      5\u001b[0m \u001b[0mProposed_S_error_indx\u001b[0m \u001b[0;34m=\u001b[0m \u001b[0mnp\u001b[0m\u001b[0;34m.\u001b[0m\u001b[0mload\u001b[0m\u001b[0;34m(\u001b[0m\u001b[0;34m'./result/S_error_proposed_1.5w.npy'\u001b[0m\u001b[0;34m)\u001b[0m\u001b[0;34m\u001b[0m\u001b[0;34m\u001b[0m\u001b[0m\n\u001b[1;32m      6\u001b[0m \u001b[0;31m# evalute the performance of each method\u001b[0m\u001b[0;34m\u001b[0m\u001b[0;34m\u001b[0m\u001b[0;34m\u001b[0m\u001b[0m\n",
      "\u001b[0;31mNameError\u001b[0m: name 'np' is not defined"
     ]
    }
   ],
   "source": [
    "# calculate error array for each method\n",
    "#Proposed_P_error_indx = evaluate_picking(P_phase_output, P_phase_label)\n",
    "#Proposed_S_error_indx = evaluate_picking(S_phase_output, S_phase_label)\n",
    "Proposed_P_error_indx = np.load('./result/P_error_proposed_1.5w.npy')\n",
    "Proposed_S_error_indx = np.load('./result/S_error_proposed_1.5w.npy')\n",
    "# evalute the performance of each method\n",
    "xx = 4\n",
    "P_error_array_eqcct, mae_P_eqcct, std_P_eqcct, precision_P_eqcct = cal_mae_std(EQCCT_P_error_indx, xx)\n",
    "S_error_array_eqcct, mae_S_eqcct, std_S_eqcct, precision_S_eqcct = cal_mae_std(EQCCT_S_error_indx, xx)\n",
    "P_error_proposed, mae_P_proposed, std_P_proposed, precision_P_proposed = cal_mae_std(Proposed_P_error_indx, xx)\n",
    "S_error_proposed, mae_S_proposed, std_S_proposed, precision_S_proposed = cal_mae_std(Proposed_S_error_indx, xx)\n",
    "\n",
    "print(f'P-wave MAE and sigma of proposed: {mae_P_proposed:.4f} s\\t{std_P_proposed:.4f} s\\nP-wave MAE and sigma of EQCCT   : {mae_P_eqcct:.4f} s\\t{std_P_eqcct:.4f} s')\n",
    "print(f'S-wave MAE and sigma of proposed: {mae_S_proposed:.4f} s\\t{std_S_proposed:.4f} s\\nS-wave MAE and sigma of EQCCT   : {mae_S_eqcct:.4f} s\\t{std_S_eqcct:.4f} s')\n",
    "print(f'P-wave precision of proposed: {precision_P_proposed:.2f} %\\tS-wave precision of proposed: {precision_S_proposed:.2f} %')\n",
    "print(f'P-wave precision of EQCCT: {precision_P_eqcct:.2f} %\\tS-wave precision of EQCCT: {precision_S_eqcct:.2f} %')"
   ]
  },
  {
   "cell_type": "markdown",
   "id": "2b4a7828-cc1c-4240-bbae-6b4e24e55cc7",
   "metadata": {},
   "source": [
    "## Compare the results"
   ]
  },
  {
   "cell_type": "code",
   "execution_count": 14,
   "id": "ba5b07f8-16b6-4a58-9600-1fe771a472b2",
   "metadata": {},
   "outputs": [],
   "source": [
    "plt.figure(figsize=(10, 6))  # Set figure size\n",
    "ax = plt.subplot(221)\n",
    "plt.hist(P_error_array_eqcct, bins=30, color='palegoldenrod', edgecolor='black', alpha=0.7)  # Adjust bins, color, edgecolor, and transparency\n",
    "plt.xlabel('Picking error (s)', fontsize=12, fontweight='bold')  # Add x-axis label with custom font size\n",
    "plt.ylabel('Count', fontsize=12, fontweight='bold')  # Add y-axis label with custom font size\n",
    "plt.xticks(fontsize=10, fontweight='bold')  # Set font size for x-axis ticks\n",
    "plt.yticks(fontsize=10, fontweight='bold')  # Set font size for y-axis ticks\n",
    "plt.text(0.2, 0.8, f'MAE={mae_P_eqcct:.2f} s\\n$\\sigma$={std_P_eqcct:.2f} s', fontsize=10, fontweight='bold', ha='center', va='center', transform=ax.transAxes)\n",
    "plt.grid(axis='y', linestyle='--', alpha=0.5)  # Add grid lines with custom style and transparency\n",
    "plt.legend(['EQCCT (P)'], prop={'weight': 'bold'})\n",
    "\n",
    "ax = plt.subplot(222)\n",
    "plt.hist(P_error_proposed, bins=30, color='skyblue', edgecolor='black', alpha=0.7)  # Adjust bins, color, edgecolor, and transparency\n",
    "plt.xlabel('Picking error (s)', fontsize=12, fontweight='bold')  # Add x-axis label with custom font size\n",
    "plt.ylabel('Count', fontsize=12, fontweight='bold')  # Add y-axis label with custom font size\n",
    "plt.xticks(fontsize=10, fontweight='bold')  # Set font size for x-axis ticks\n",
    "plt.yticks(fontsize=10, fontweight='bold')  # Set font size for y-axis ticks\n",
    "plt.text(0.2, 0.8, f'MAE={mae_P_proposed:.2f} s\\n$\\sigma$={std_P_proposed:.2f} s', fontsize=10, fontweight='bold', ha='center', va='center', transform=ax.transAxes)\n",
    "plt.grid(axis='y', linestyle='--', alpha=0.5)  # Add grid lines with custom style and transparency\n",
    "plt.legend(['Proposed (P)'], prop={'weight': 'bold'})\n",
    "\n",
    "\n",
    "ax = plt.subplot(223)\n",
    "plt.hist(S_error_array_eqcct, bins=30, color='palegoldenrod', edgecolor='black', alpha=0.7)  # Adjust bins, color, edgecolor, and transparency\n",
    "plt.xlabel('Picking error (s)', fontsize=12, fontweight='bold')  # Add x-axis label with custom font size\n",
    "plt.ylabel('Count', fontsize=12, fontweight='bold')  # Add y-axis label with custom font size\n",
    "plt.xticks(fontsize=10, fontweight='bold')  # Set font size for x-axis ticks\n",
    "plt.yticks(fontsize=10, fontweight='bold')  # Set font size for y-axis ticks\n",
    "plt.text(0.2, 0.8, f'MAE={mae_S_eqcct:.2f} s\\n$\\sigma$={std_S_eqcct:.2f} s', fontsize=10, fontweight='bold', ha='center', va='center', transform=ax.transAxes)\n",
    "plt.grid(axis='y', linestyle='--', alpha=0.5)  # Add grid lines with custom style and transparency\n",
    "plt.legend(['EQCCT (S)'], prop={'weight': 'bold'})\n",
    "\n",
    "ax = plt.subplot(224)\n",
    "plt.hist(S_error_proposed, bins=30, color='skyblue', edgecolor='black', alpha=0.7)  # Adjust bins, color, edgecolor, and transparency\n",
    "plt.xlabel('Picking error (s)', fontsize=12, fontweight='bold')  # Add x-axis label with custom font size\n",
    "plt.ylabel('Count', fontsize=12, fontweight='bold')  # Add y-axis label with custom font size\n",
    "plt.xticks(fontsize=10, fontweight='bold')  # Set font size for x-axis ticks\n",
    "plt.yticks(fontsize=10, fontweight='bold')  # Set font size for y-axis ticks\n",
    "plt.text(0.2, 0.8, f'MAE={mae_S_proposed:.2f} s\\n$\\sigma$={std_S_proposed:.2f} s', fontsize=10, fontweight='bold', ha='center', va='center', transform=ax.transAxes)\n",
    "# plt.text(0.2, 0.8, f'MAE={mae_S_proposed:.2f} s\\n$\\sigma$={std_S_proposed:.2f} s', fontsize=10, fontweight='bold', transform=plt.gcf().transFigure)\n",
    "plt.grid(axis='y', linestyle='--', alpha=0.5)  # Add grid lines with custom style and transparency\n",
    "plt.legend(['Proposed (S)'], prop={'weight': 'bold'})\n",
    "\n",
    "\n",
    "plt.tight_layout()\n",
    "\n",
    "plt.savefig(f'EQCCT_vs_proposed.pdf', bbox_inches=\"tight\", dpi=150)\n",
    "plt.savefig(f'EQCCT_vs_proposed.png', bbox_inches=\"tight\", dpi=150)\n",
    "plt.show()"
   ]
  },
  {
   "cell_type": "code",
   "execution_count": null,
   "id": "523b2275-368c-4b04-a1cb-93d2ddac5416",
   "metadata": {},
   "outputs": [],
   "source": []
  },
  {
   "cell_type": "code",
   "execution_count": null,
   "id": "6fea8c8d-7d85-4099-a338-15bc733cfc5d",
   "metadata": {},
   "outputs": [],
   "source": []
  },
  {
   "cell_type": "code",
   "execution_count": null,
   "id": "0f9ab24e-9003-498f-8e95-2cbdcffae5e1",
   "metadata": {},
   "outputs": [],
   "source": []
  }
 ],
 "metadata": {
  "kernelspec": {
   "display_name": "Python 3 (ipykernel)",
   "language": "python",
   "name": "python3"
  },
  "language_info": {
   "codemirror_mode": {
    "name": "ipython",
    "version": 3
   },
   "file_extension": ".py",
   "mimetype": "text/x-python",
   "name": "python",
   "nbconvert_exporter": "python",
   "pygments_lexer": "ipython3",
   "version": "3.7.16"
  }
 },
 "nbformat": 4,
 "nbformat_minor": 5
}
