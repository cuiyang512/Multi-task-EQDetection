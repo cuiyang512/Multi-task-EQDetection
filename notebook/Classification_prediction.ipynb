{
 "cells": [
  {
   "cell_type": "markdown",
   "id": "3baaa1b6-53d7-43e5-b203-ec4825cbfac1",
   "metadata": {},
   "source": [
    "## Signal and Noise Waveforms Classification "
   ]
  },
  {
   "cell_type": "code",
   "execution_count": 1,
   "id": "8cbc27a9-676d-4a0a-9bb6-45ef873bb6a9",
   "metadata": {},
   "outputs": [
    {
     "name": "stderr",
     "output_type": "stream",
     "text": [
      "2024-11-15 22:12:46.266422: E external/local_xla/xla/stream_executor/cuda/cuda_dnn.cc:9261] Unable to register cuDNN factory: Attempting to register factory for plugin cuDNN when one has already been registered\n",
      "2024-11-15 22:12:46.266452: E external/local_xla/xla/stream_executor/cuda/cuda_fft.cc:607] Unable to register cuFFT factory: Attempting to register factory for plugin cuFFT when one has already been registered\n",
      "2024-11-15 22:12:46.267578: E external/local_xla/xla/stream_executor/cuda/cuda_blas.cc:1515] Unable to register cuBLAS factory: Attempting to register factory for plugin cuBLAS when one has already been registered\n",
      "2024-11-15 22:12:46.272784: I tensorflow/core/platform/cpu_feature_guard.cc:182] This TensorFlow binary is optimized to use available CPU instructions in performance-critical operations.\n",
      "To enable the following instructions: AVX2 FMA, in other operations, rebuild TensorFlow with the appropriate compiler flags.\n",
      "2024-11-15 22:12:46.788494: W tensorflow/compiler/tf2tensorrt/utils/py_utils.cc:38] TF-TRT Warning: Could not find TensorRT\n"
     ]
    },
    {
     "name": "stdout",
     "output_type": "stream",
     "text": [
      "2 Physical GPUs, 1 Logical GPU\n"
     ]
    },
    {
     "name": "stderr",
     "output_type": "stream",
     "text": [
      "2024-11-15 22:12:48.079717: I external/local_xla/xla/stream_executor/cuda/cuda_executor.cc:901] successful NUMA node read from SysFS had negative value (-1), but there must be at least one NUMA node, so returning NUMA node zero. See more at https://github.com/torvalds/linux/blob/v6.0/Documentation/ABI/testing/sysfs-bus-pci#L344-L355\n",
      "2024-11-15 22:12:48.079945: I external/local_xla/xla/stream_executor/cuda/cuda_executor.cc:901] successful NUMA node read from SysFS had negative value (-1), but there must be at least one NUMA node, so returning NUMA node zero. See more at https://github.com/torvalds/linux/blob/v6.0/Documentation/ABI/testing/sysfs-bus-pci#L344-L355\n",
      "2024-11-15 22:12:48.112610: I external/local_xla/xla/stream_executor/cuda/cuda_executor.cc:901] successful NUMA node read from SysFS had negative value (-1), but there must be at least one NUMA node, so returning NUMA node zero. See more at https://github.com/torvalds/linux/blob/v6.0/Documentation/ABI/testing/sysfs-bus-pci#L344-L355\n",
      "2024-11-15 22:12:48.112836: I external/local_xla/xla/stream_executor/cuda/cuda_executor.cc:901] successful NUMA node read from SysFS had negative value (-1), but there must be at least one NUMA node, so returning NUMA node zero. See more at https://github.com/torvalds/linux/blob/v6.0/Documentation/ABI/testing/sysfs-bus-pci#L344-L355\n",
      "2024-11-15 22:12:48.113032: I external/local_xla/xla/stream_executor/cuda/cuda_executor.cc:901] successful NUMA node read from SysFS had negative value (-1), but there must be at least one NUMA node, so returning NUMA node zero. See more at https://github.com/torvalds/linux/blob/v6.0/Documentation/ABI/testing/sysfs-bus-pci#L344-L355\n",
      "2024-11-15 22:12:48.113220: I external/local_xla/xla/stream_executor/cuda/cuda_executor.cc:901] successful NUMA node read from SysFS had negative value (-1), but there must be at least one NUMA node, so returning NUMA node zero. See more at https://github.com/torvalds/linux/blob/v6.0/Documentation/ABI/testing/sysfs-bus-pci#L344-L355\n",
      "2024-11-15 22:12:48.115660: I external/local_xla/xla/stream_executor/cuda/cuda_executor.cc:901] successful NUMA node read from SysFS had negative value (-1), but there must be at least one NUMA node, so returning NUMA node zero. See more at https://github.com/torvalds/linux/blob/v6.0/Documentation/ABI/testing/sysfs-bus-pci#L344-L355\n",
      "2024-11-15 22:12:48.115866: I external/local_xla/xla/stream_executor/cuda/cuda_executor.cc:901] successful NUMA node read from SysFS had negative value (-1), but there must be at least one NUMA node, so returning NUMA node zero. See more at https://github.com/torvalds/linux/blob/v6.0/Documentation/ABI/testing/sysfs-bus-pci#L344-L355\n",
      "2024-11-15 22:12:48.116088: I external/local_xla/xla/stream_executor/cuda/cuda_executor.cc:901] successful NUMA node read from SysFS had negative value (-1), but there must be at least one NUMA node, so returning NUMA node zero. See more at https://github.com/torvalds/linux/blob/v6.0/Documentation/ABI/testing/sysfs-bus-pci#L344-L355\n",
      "2024-11-15 22:12:48.187050: I external/local_xla/xla/stream_executor/cuda/cuda_executor.cc:901] successful NUMA node read from SysFS had negative value (-1), but there must be at least one NUMA node, so returning NUMA node zero. See more at https://github.com/torvalds/linux/blob/v6.0/Documentation/ABI/testing/sysfs-bus-pci#L344-L355\n",
      "2024-11-15 22:12:48.187260: I external/local_xla/xla/stream_executor/cuda/cuda_executor.cc:901] successful NUMA node read from SysFS had negative value (-1), but there must be at least one NUMA node, so returning NUMA node zero. See more at https://github.com/torvalds/linux/blob/v6.0/Documentation/ABI/testing/sysfs-bus-pci#L344-L355\n",
      "2024-11-15 22:12:48.187444: I external/local_xla/xla/stream_executor/cuda/cuda_executor.cc:901] successful NUMA node read from SysFS had negative value (-1), but there must be at least one NUMA node, so returning NUMA node zero. See more at https://github.com/torvalds/linux/blob/v6.0/Documentation/ABI/testing/sysfs-bus-pci#L344-L355\n",
      "2024-11-15 22:12:48.187591: I tensorflow/core/common_runtime/gpu/gpu_device.cc:1929] Created device /job:localhost/replica:0/task:0/device:GPU:0 with 18060 MB memory:  -> device: 1, name: NVIDIA RTX A4500, pci bus id: 0000:41:00.0, compute capability: 8.6\n"
     ]
    }
   ],
   "source": [
    "# import models\n",
    "from keras.layers import *\n",
    "from keras.models import Sequential, Model, load_model\n",
    "from keras import optimizers, losses\n",
    "from keras import backend as K\n",
    "from keras.utils import to_categorical\n",
    "from sklearn.model_selection import train_test_split\n",
    "from sklearn.cluster import KMeans\n",
    "from keras.callbacks import EarlyStopping, ModelCheckpoint, ReduceLROnPlateau,LearningRateScheduler, CSVLogger\n",
    "from tensorflow.keras.losses import binary_crossentropy, mean_squared_error\n",
    "import tensorflow as tf\n",
    "from sklearn.metrics import accuracy_score, precision_score, recall_score, mean_squared_error, confusion_matrix, ConfusionMatrixDisplay \n",
    "from scipy import fftpack\n",
    "from keras.optimizers import Adam\n",
    "import time\n",
    "import numpy as np\n",
    "import h5py\n",
    "import sys\n",
    "import os\n",
    "import seaborn as sns\n",
    "sys.path.insert(1, '../')\n",
    "from demos.utils import *\n",
    "\n",
    "# set random seed\n",
    "seed = 202414\n",
    "np.random.seed(seed)\n",
    "tf.random.set_seed(seed)\n",
    "\n",
    "# run with GPUs\n",
    "gpus = tf.config.experimental.list_physical_devices('GPU')\n",
    "if gpus:\n",
    "    # Restrict TensorFlow to only use the first GPU\n",
    "    try:\n",
    "        tf.config.experimental.set_visible_devices(gpus[1], 'GPU')\n",
    "        logical_gpus = tf.config.experimental.list_logical_devices('GPU')\n",
    "        print(len(gpus), \"Physical GPUs,\", len(logical_gpus), \"Logical GPU\")\n",
    "    except RuntimeError as e:\n",
    "        # Visible devices must be set before GPUs have been initialized\n",
    "        print(e)\n",
    "\n",
    "# check the existing of folders\n",
    "if os.path.isdir('../figs') == False:  \n",
    "\tos.makedirs('../figs',exist_ok=True)"
   ]
  },
  {
   "cell_type": "markdown",
   "id": "ab949c69-5e4a-4de8-a450-34224f643c13",
   "metadata": {},
   "source": [
    "## Define data path"
   ]
  },
  {
   "cell_type": "code",
   "execution_count": 2,
   "id": "efc312c8-5c0d-4412-8342-707055086610",
   "metadata": {},
   "outputs": [],
   "source": [
    "signal_id_path = '../data/txed_signal_id.npy'\n",
    "noise_id_path = '../data/txed_noise_id.npy'\n",
    "TXED_path = os.getenv('HOME')+'/Yang/Data/Earthquake_data/TXED/TXED_0913.h5'\n",
    "model_path = '../model/EQ_classification_best_model.h5'\n",
    "fig_path = '../figs/'"
   ]
  },
  {
   "cell_type": "markdown",
   "id": "9662f050-4952-454a-94ab-ef75a86fc820",
   "metadata": {},
   "source": [
    "## Load testing datasets from TXED"
   ]
  },
  {
   "cell_type": "code",
   "execution_count": 3,
   "id": "96773841-a977-480d-8957-acbcf758df48",
   "metadata": {},
   "outputs": [
    {
     "name": "stdout",
     "output_type": "stream",
     "text": [
      "(10000, 6000, 3) (10000, 6000, 3)\n"
     ]
    }
   ],
   "source": [
    "# For the TXED data, please download from the following link:\n",
    "# https://drive.google.com/drive/folders/1WXVB8ytNB4bOaZ97oq6OmMRyAEg95trp?usp=sharing  (~70 GB)\n",
    "# After downloading the data, please put the TXED to '../data/'\n",
    "\n",
    "# load the ID of signal and noise waveforms\n",
    "signal_id_all = np.load(signal_id_path, 'r')\n",
    "signal_id = signal_id_all[:10000]\n",
    "\n",
    "noise_id_all = np.load(noise_id_path, 'r')\n",
    "noise_id = noise_id_all[:10000]\n",
    "\n",
    "f_txed = h5py.File(TXED_path, 'r')\n",
    "\n",
    "\n",
    "# read signal waveforms from IDs\n",
    "signal_list = []\n",
    "for key in signal_id:\n",
    "    if key in f_txed:   \n",
    "        dataset = f_txed.get(key)\n",
    "        signal_list.append(dataset['data'])  \n",
    "signal_waveforms = np.array(signal_list)\n",
    "\n",
    "# read noise waveforms from IDs\n",
    "noise_list = []\n",
    "for key in noise_id:\n",
    "    if key in f_txed:   \n",
    "        dataset = f_txed.get(key)\n",
    "        noise_list.append(dataset['data'])  \n",
    "noise_waveforms = np.array(noise_list)\n",
    "\n",
    "# build testing data\n",
    "test_data = np.concatenate([signal_waveforms,noise_waveforms],axis=0)\n",
    "print(signal_waveforms.shape, noise_waveforms.shape)"
   ]
  },
  {
   "cell_type": "markdown",
   "id": "30aa080d-f8b5-4833-9e9e-728a66dc36c9",
   "metadata": {},
   "source": [
    "## Build labels of signal and noise waveforms"
   ]
  },
  {
   "cell_type": "code",
   "execution_count": 4,
   "id": "7fe8d5e6-a693-4d5a-9e22-97d305d3027f",
   "metadata": {},
   "outputs": [],
   "source": [
    "# create labels\n",
    "labels=np.ones([signal_waveforms.shape[0],1])\n",
    "labeln=np.zeros([noise_waveforms.shape[0],1])\n",
    "\n",
    "# concatenate two matrix\n",
    "label=np.concatenate([labels,labeln],axis=0)\n",
    "\n",
    "# to categorical \n",
    "label = to_categorical(label)"
   ]
  },
  {
   "cell_type": "markdown",
   "id": "9437438f-99eb-42b8-a340-cb80cdd3914f",
   "metadata": {},
   "source": [
    "## Load model and predict"
   ]
  },
  {
   "cell_type": "code",
   "execution_count": 5,
   "id": "47807463-3d03-4625-b65c-da69ff3cdef5",
   "metadata": {},
   "outputs": [
    {
     "name": "stderr",
     "output_type": "stream",
     "text": [
      "2024-11-15 22:12:55.855278: I external/local_xla/xla/stream_executor/cuda/cuda_dnn.cc:454] Loaded cuDNN version 8904\n"
     ]
    },
    {
     "name": "stdout",
     "output_type": "stream",
     "text": [
      "625/625 [==============================] - 9s 12ms/step\n",
      "The accuracy of the model is 99.79%,the precision is 99.69%, the recall is 99.89%,and the F1 scorei is 99.79%.\n"
     ]
    }
   ],
   "source": [
    "# load model\n",
    "EQ_model = load_model(f'{model_path}')\n",
    "\n",
    "# predict \n",
    "pre_data = EQ_model.predict(test_data)\n",
    "\n",
    "# applied threshold to the predicts\n",
    "thre_pred_data = class_thres(pre_data, alpha=0.5)\n",
    "\n",
    "# evaluate the predictions\n",
    "test_labels = label[:,0]\n",
    "predicted_classes = thre_pred_data[:,0]\n",
    "\n",
    "accuracy = accuracy_score(test_labels,predicted_classes)\n",
    "precision = precision_score(test_labels,predicted_classes)\n",
    "recall = recall_score(test_labels,predicted_classes)\n",
    "F1_score1 = 2*precision*recall/(precision+recall)\n",
    "\n",
    "print(f'The accuracy of the model is {accuracy*100:.2f}%,\\\n",
    "the precision is {precision*100:.2f}%, the recall is {recall*100:.2f}%,\\\n",
    "and the F1 scorei is {F1_score1*100:.2f}%.')"
   ]
  },
  {
   "cell_type": "markdown",
   "id": "5b7f67ce-4306-4e9b-a0d9-443830966e99",
   "metadata": {},
   "source": [
    "## Visualize the result using confusion matrix"
   ]
  },
  {
   "cell_type": "code",
   "execution_count": 10,
   "id": "774101fa-fc20-460e-bada-055d4f4a36ed",
   "metadata": {},
   "outputs": [
    {
     "data": {
      "image/png": "[encoded data removed]",
      "text/plain": [
       "<Figure size 500x500 with 2 Axes>"
      ]
     },
     "metadata": {},
     "output_type": "display_data"
    }
   ],
   "source": [
    "# calculate the confusion matrix\n",
    "C = confusion_matrix(test_labels, predicted_classes)\n",
    "\n",
    "\n",
    "custom_labels = ['earthquake', 'noise']\n",
    "\n",
    "# Create custom annotations with both counts and percentages\n",
    "confusion_m = C.astype('float') / C.sum(axis=1)[:, np.newaxis]\n",
    "annotations = np.empty_like(C).astype(str)\n",
    "n_classes = C.shape[0]\n",
    "for i in range(n_classes):\n",
    "    for j in range(n_classes):\n",
    "        annotations[i, j] = f'{C[i, j]}\\n({confusion_m[i, j] * 100:.2f}%)'\n",
    "\n",
    "# Plot the heatmap with the counts (C) as values for the colorbar\n",
    "plt.figure(figsize=(5, 5))\n",
    "ax = sns.heatmap(C, annot=annotations, fmt='', cmap=\"GnBu\", annot_kws={\"fontsize\": 20}, linewidths=1, linecolor='black', \n",
    "                 cbar_kws={\"shrink\": 1, 'aspect': 20, 'fraction': 0.05, 'pad': 0.01})\n",
    "\n",
    "# Set x-axis and y-axis labels\n",
    "ax.set_xticklabels(custom_labels, fontsize=12)\n",
    "ax.set_yticklabels(custom_labels, fontsize=12, rotation=90)\n",
    "\n",
    "# Set x and y labels\n",
    "# plt.xlabel('Prediction', fontsize=12, fontweight='bold')\n",
    "# plt.ylabel('Ground truth', fontsize=12, fontweight='bold')\n",
    "\n",
    "# Customize the colorbar to show the number of true predictions\n",
    "cbar = ax.collections[0].colorbar\n",
    "cbar.ax.tick_params(labelsize=12)\n",
    "\n",
    "# Adjust layout\n",
    "plt.tight_layout()\n",
    "\n",
    "plt.savefig(f'{fig_path}EQ_classification_result.png')\n",
    "plt.show()"
   ]
  },
  {
   "cell_type": "code",
   "execution_count": null,
   "id": "5594d093-a939-4c3f-bd22-c393535916b8",
   "metadata": {},
   "outputs": [],
   "source": []
  }
 ],
 "metadata": {
  "kernelspec": {
   "display_name": "Python 3 (ipykernel)",
   "language": "python",
   "name": "python3"
  },
  "language_info": {
   "codemirror_mode": {
    "name": "ipython",
    "version": 3
   },
   "file_extension": ".py",
   "mimetype": "text/x-python",
   "name": "python",
   "nbconvert_exporter": "python",
   "pygments_lexer": "ipython3",
   "version": "3.11.7"
  }
 },
 "nbformat": 4,
 "nbformat_minor": 5
}
