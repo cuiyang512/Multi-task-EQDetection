{
 "cells": [
  {
   "cell_type": "markdown",
   "id": "afcd0aba-0d5d-4f83-a513-1554e3a06393",
   "metadata": {},
   "source": [
    "## Use the pre-trained model to pick the arrivals"
   ]
  },
  {
   "cell_type": "code",
   "execution_count": 11,
   "id": "c0ae796b-4585-49aa-96c4-91fd3819de5b",
   "metadata": {},
   "outputs": [
    {
     "name": "stdout",
     "output_type": "stream",
     "text": [
      "2 Physical GPUs, 1 Logical GPU\n"
     ]
    }
   ],
   "source": [
    "# Import python library\n",
    "from keras.models import load_model\n",
    "from keras import backend as K\n",
    "import numpy as np\n",
    "import pandas as pd\n",
    "import matplotlib.pyplot as plt\n",
    "import h5py\n",
    "from scipy.signal import butter, lfilter, lfilter_zi\n",
    "import tensorflow as tf\n",
    "import os\n",
    "import sys\n",
    "import random\n",
    "sys.path.insert(1, '../')\n",
    "from demos.utils import *\n",
    "\n",
    "# set random seed\n",
    "seed = 202404\n",
    "np.random.seed(seed)\n",
    "tf.random.set_seed(seed)\n",
    "\n",
    "# Check GPUs\n",
    "gpus = tf.config.experimental.list_physical_devices('GPU')\n",
    "if gpus:\n",
    "    # Restrict TensorFlow to only use the first GPU\n",
    "    try:\n",
    "        tf.config.experimental.set_visible_devices(gpus[1], 'GPU')\n",
    "        logical_gpus = tf.config.experimental.list_logical_devices('GPU')\n",
    "        print(len(gpus), \"Physical GPUs,\", len(logical_gpus), \"Logical GPU\")\n",
    "    except RuntimeError as e:\n",
    "        # Visible devices must be set before GPUs have been initialized\n",
    "        print(e)\n",
    "\n",
    "\n",
    "# Make a new dir to save the picking error\n",
    "directory_path = \"../test_picking_results/\"\n",
    "\n",
    "# Create the directory, including any necessary parent directories\n",
    "os.makedirs(directory_path, exist_ok=True)"
   ]
  },
  {
   "cell_type": "markdown",
   "id": "fd4f361e-4bee-4f37-8d59-c463bd1e73ba",
   "metadata": {},
   "source": [
    "## Define data path"
   ]
  },
  {
   "cell_type": "code",
   "execution_count": 2,
   "id": "834d27b8-f0ce-4129-8b6f-1f22596fda93",
   "metadata": {},
   "outputs": [],
   "source": [
    "signal_id_path = '../data/signalid_random_1.5w.npy'\n",
    "TXED_path = os.getenv('HOME')+'/Yang/Data/Earthquake_data/TXED/TXED_0913.h5' # Here, you may need to change the path of TXED\n",
    "Pwave_model_path = '../model/P_wave_phase_picking_best_model.h5'\n",
    "Swave_model_path = '../model/S_wave_phase_picking_best_model.h5'\n",
    "fig_path = '../figs/'"
   ]
  },
  {
   "cell_type": "markdown",
   "id": "a8eb7eb7-ffc3-42ea-86b9-b56c9ca35ded",
   "metadata": {},
   "source": [
    "## Obtain the P- and S-wave arrivals from TXED"
   ]
  },
  {
   "cell_type": "code",
   "execution_count": 3,
   "id": "0c8b8a14-c725-4988-b665-3a16d41e1e44",
   "metadata": {},
   "outputs": [
    {
     "name": "stdout",
     "output_type": "stream",
     "text": [
      "-----------arrival time calculation begin-------------------\n",
      "-----------arrival time calculation end-------------------\n",
      "(15000,) [ 99 498  98 ... 898 598 598]\n",
      "(15000,) [ 616  709  382 ... 2003 2551 1035]\n"
     ]
    }
   ],
   "source": [
    "# load IDs and TXED\n",
    "event_id = np.load(signal_id_path, 'r')\n",
    "f_txed = h5py.File(TXED_path, 'r')\n",
    "\n",
    "# obtain the P- and S-wave arrivals\n",
    "P_arrival_list = []\n",
    "S_arrival_list = []\n",
    "print('-----------arrival time calculation begin-------------------')\n",
    "for key in event_id:\n",
    "    if key in f_txed:   \n",
    "        dataset = f_txed.get(key)\n",
    "        P_arrival_list.append(int(dataset.attrs['p_arrival_sample']))\n",
    "        S_arrival_list.append(int(dataset.attrs['s_arrival_sample']))\n",
    "P_arrival_list = np.array(P_arrival_list)\n",
    "S_arrival_list = np.array(S_arrival_list)\n",
    "P_phase_label = P_arrival_list\n",
    "S_phase_label = S_arrival_list\n",
    "\n",
    "print('-----------arrival time calculation end-------------------')\n",
    "print(P_arrival_list.shape, P_arrival_list)\n",
    "print(S_arrival_list.shape, S_arrival_list)"
   ]
  },
  {
   "cell_type": "markdown",
   "id": "c32a4a13-d30e-4e3b-8973-8cdc84107840",
   "metadata": {},
   "source": [
    "## Band-pass and normalization of the 3-C waveforms"
   ]
  },
  {
   "cell_type": "code",
   "execution_count": 4,
   "id": "c748e6d5-14f5-4a8f-b367-e35975c997f8",
   "metadata": {},
   "outputs": [
    {
     "name": "stdout",
     "output_type": "stream",
     "text": [
      "-----------signal format convert begin-------------------\n",
      "-----------signal format convert finihs-------------------\n",
      "(15000, 6000, 3)\n"
     ]
    }
   ],
   "source": [
    "signal_list = []\n",
    "print('-----------signal format convert begin-------------------')\n",
    "for key in event_id:\n",
    "    if key in f_txed:   \n",
    "        dataset = f_txed.get(key)\n",
    "        datas = dataset['data']\n",
    "        datas = np.array(datas)\n",
    "        datas_0 = butter_bandpass_filter_zi(datas[:,0], 1, 45, 100, order=3)\n",
    "        datas_1 = butter_bandpass_filter_zi(datas[:,1], 1, 45, 100, order=3)\n",
    "        datas_2 = butter_bandpass_filter_zi(datas[:,2], 1, 45, 100, order=3)\n",
    "        datas = np.vstack([datas_0, datas_1, datas_2])\n",
    "        signal_list.append(datas) \n",
    "signal_values = np.array(signal_list)\n",
    "bp_signal= np.transpose(signal_values, [0, 2, 1])\n",
    "\n",
    "\n",
    "#Normalized trace-by-trace\n",
    "max_values_per_event = np.max(bp_signal, axis=1)\n",
    "# Normalize each component of each event by dividing by its maximum value\n",
    "normalized_phase_data = bp_signal / max_values_per_event[:, np.newaxis, :]\n",
    "print('-----------signal format convert finihs-------------------')\n",
    "print(bp_signal.shape)"
   ]
  },
  {
   "cell_type": "markdown",
   "id": "99c43a61-dd1c-41f9-9073-e72eae84953d",
   "metadata": {},
   "source": [
    "## Model inference"
   ]
  },
  {
   "cell_type": "code",
   "execution_count": 5,
   "id": "abc2270f-7cd9-465e-91c1-690e33851971",
   "metadata": {},
   "outputs": [
    {
     "name": "stderr",
     "output_type": "stream",
     "text": [
      "2024-11-16 10:37:54.841766: I external/local_xla/xla/stream_executor/cuda/cuda_dnn.cc:454] Loaded cuDNN version 8904\n"
     ]
    },
    {
     "name": "stdout",
     "output_type": "stream",
     "text": [
      "469/469 [==============================] - 10s 17ms/step\n",
      "469/469 [==============================] - 8s 14ms/step\n"
     ]
    }
   ],
   "source": [
    "## Load the pre-trained model and perform the inference\n",
    "learning_rate = 0.001  # Specify your learning rate\n",
    "\n",
    "P_phase_model = load_model(f'{Pwave_model_path}')\n",
    "S_phase_model = load_model(f'{Swave_model_path}')\n",
    "\n",
    "P_phase_output = P_phase_model.predict(normalized_phase_data)\n",
    "S_phase_output = S_phase_model.predict(normalized_phase_data)\n",
    "\n",
    "## Calculating and saving the predicted error of the proposed model\n",
    "Proposed_P_error_indx = evaluate_picking(P_phase_output, P_phase_label)\n",
    "Proposed_S_error_indx = evaluate_picking(S_phase_output, S_phase_label)\n",
    "\n",
    "## Saving the results\n",
    "np.save('../test_picking_results/Pwave_error.npy', Proposed_P_error_indx)\n",
    "np.save('../test_picking_results/Swave_error.npy', Proposed_S_error_indx)"
   ]
  },
  {
   "cell_type": "markdown",
   "id": "e94e43b9-e741-4d50-ab99-88f189fbe4d1",
   "metadata": {},
   "source": [
    "## Evaluate picking results"
   ]
  },
  {
   "cell_type": "code",
   "execution_count": 6,
   "id": "2f00c3bd-9698-4c10-97d5-2073a3f96161",
   "metadata": {},
   "outputs": [
    {
     "name": "stdout",
     "output_type": "stream",
     "text": [
      "P-wave MAE and sigma of proposed: 0.1310 s\t0.3090 s\n",
      "S-wave MAE and sigma of proposed: 0.1691 s\t0.3278 s\n",
      "P-wave precision of proposed: 97.05 %\tS-wave precision of proposed: 96.97 %\n"
     ]
    }
   ],
   "source": [
    "xx = 2 # the threshold to filter outliers\n",
    "P_error_proposed, mae_P_proposed, std_P_proposed, precision_P_proposed = cal_mae_std(Proposed_P_error_indx, xx)\n",
    "S_error_proposed, mae_S_proposed, std_S_proposed, precision_S_proposed = cal_mae_std(Proposed_S_error_indx, xx)\n",
    "\n",
    "\n",
    "random.seed(202411)\n",
    "P_indices = [i for i, x in enumerate(Proposed_P_error_indx) if x<2]\n",
    "S_indices = [i for i, x in enumerate(Proposed_S_error_indx) if x<2]\n",
    "P_selected_index = random.sample(P_indices, 10)\n",
    "S_selected_index = random.sample(S_indices, 10)\n",
    "\n",
    "print(f'P-wave MAE and sigma of proposed: {mae_P_proposed:.4f} s\\t{std_P_proposed:.4f} s')\n",
    "print(f'S-wave MAE and sigma of proposed: {mae_S_proposed:.4f} s\\t{std_S_proposed:.4f} s')\n",
    "print(f'P-wave precision of proposed: {precision_P_proposed:.2f} %\\tS-wave precision of proposed: {precision_S_proposed:.2f} %')"
   ]
  },
  {
   "cell_type": "markdown",
   "id": "487fd025-95b6-4013-b120-12b9a87a5aa5",
   "metadata": {},
   "source": [
    "## Plot histogram of error distributions"
   ]
  },
  {
   "cell_type": "code",
   "execution_count": 14,
   "id": "68c61d51-d8e9-4f36-b4e5-66c065a9fcf9",
   "metadata": {},
   "outputs": [
    {
     "data": {
      "text/plain": [
       "<matplotlib.legend.Legend at 0x7662bb297250>"
      ]
     },
     "execution_count": 14,
     "metadata": {},
     "output_type": "execute_result"
    },
    {
     "data": {
      "image/png": "[encoded data removed]",
      "text/plain": [
       "<Figure size 1000x300 with 2 Axes>"
      ]
     },
     "metadata": {},
     "output_type": "display_data"
    }
   ],
   "source": [
    "plt.figure(figsize=(10, 3))  # Set figure size\n",
    "ax = plt.subplot(121)\n",
    "plt.hist(P_error_proposed, bins=30, color='palegoldenrod', edgecolor='black', alpha=0.7)  # Adjust bins, color, edgecolor, and transparency\n",
    "plt.xlabel('Picking error (s)', fontsize=12, fontweight='bold')  # Add x-axis label with custom font size\n",
    "plt.ylabel('Count', fontsize=12, fontweight='bold')  # Add y-axis label with custom font size\n",
    "plt.xticks(fontsize=10, fontweight='bold')  # Set font size for x-axis ticks\n",
    "plt.yticks(fontsize=10, fontweight='bold')  # Set font size for y-axis ticks\n",
    "plt.text(0.2, 0.8, f'MAE={mae_P_proposed:.2f} s\\n$\\sigma$={std_P_proposed:.2f} s', fontsize=10, fontweight='bold', ha='center', va='center', transform=ax.transAxes)\n",
    "plt.grid(axis='y', linestyle='--', alpha=0.5)  # Add grid lines with custom style and transparency\n",
    "plt.legend(['Pwave'], prop={'weight': 'bold'})\n",
    "\n",
    "ax = plt.subplot(122)\n",
    "plt.hist(S_error_proposed, bins=30, color='skyblue', edgecolor='black', alpha=0.7)  # Adjust bins, color, edgecolor, and transparency\n",
    "plt.xlabel('Picking error (s)', fontsize=12, fontweight='bold')  # Add x-axis label with custom font size\n",
    "plt.ylabel('Count', fontsize=12, fontweight='bold')  # Add y-axis label with custom font size\n",
    "plt.xticks(fontsize=10, fontweight='bold')  # Set font size for x-axis ticks\n",
    "plt.yticks(fontsize=10, fontweight='bold')  # Set font size for y-axis ticks\n",
    "plt.text(0.2, 0.8, f'MAE={mae_S_proposed:.2f} s\\n$\\sigma$={std_S_proposed:.2f} s', fontsize=10, fontweight='bold', ha='center', va='center', transform=ax.transAxes)\n",
    "plt.grid(axis='y', linestyle='--', alpha=0.5)  # Add grid lines with custom style and transparency\n",
    "plt.legend(['Swave'], prop={'weight': 'bold'})"
   ]
  },
  {
   "cell_type": "code",
   "execution_count": null,
   "id": "5428cf55-86b3-4b51-86e3-d7bc296f912e",
   "metadata": {},
   "outputs": [],
   "source": []
  }
 ],
 "metadata": {
  "kernelspec": {
   "display_name": "Python 3 (ipykernel)",
   "language": "python",
   "name": "python3"
  },
  "language_info": {
   "codemirror_mode": {
    "name": "ipython",
    "version": 3
   },
   "file_extension": ".py",
   "mimetype": "text/x-python",
   "name": "python",
   "nbconvert_exporter": "python",
   "pygments_lexer": "ipython3",
   "version": "3.11.7"
  }
 },
 "nbformat": 4,
 "nbformat_minor": 5
}
